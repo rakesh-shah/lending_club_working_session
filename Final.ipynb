{
 "cells": [
  {
   "cell_type": "markdown",
   "id": "8026a74c-f247-434b-b941-52b16484f137",
   "metadata": {},
   "source": [
    "# Import Packages"
   ]
  },
  {
   "cell_type": "code",
   "execution_count": null,
   "id": "dc5e8b4d-f1db-4810-b5df-6d487d40b380",
   "metadata": {},
   "outputs": [],
   "source": []
  },
  {
   "cell_type": "code",
   "execution_count": null,
   "id": "195f85ea-f353-4b21-ae1a-3597a44e4daa",
   "metadata": {},
   "outputs": [],
   "source": []
  },
  {
   "cell_type": "markdown",
   "id": "801c8644-ebce-455a-bd77-704bda18fa71",
   "metadata": {},
   "source": [
    "# Loading Data and viewing it by all process"
   ]
  },
  {
   "cell_type": "code",
   "execution_count": null,
   "id": "b08be584-cebb-4b01-a8d8-7c00a17be4d8",
   "metadata": {},
   "outputs": [],
   "source": []
  },
  {
   "cell_type": "code",
   "execution_count": null,
   "id": "6e72db7e-5573-44e9-b343-fae63fc86e84",
   "metadata": {},
   "outputs": [],
   "source": []
  },
  {
   "cell_type": "markdown",
   "id": "da29c167-0a95-45c6-afb0-6c111dc7f3a8",
   "metadata": {},
   "source": [
    "# Cleaning the Data"
   ]
  },
  {
   "cell_type": "code",
   "execution_count": null,
   "id": "8f570bee-94ba-465d-90b6-65a6d1c60898",
   "metadata": {},
   "outputs": [],
   "source": []
  },
  {
   "cell_type": "markdown",
   "id": "b71fd76f-3b7a-4235-93cc-ce1879bd6120",
   "metadata": {},
   "source": [
    "## Removing Null column which are very much eligible and also the column which are very much unique and not import for the analysis"
   ]
  },
  {
   "cell_type": "code",
   "execution_count": null,
   "id": "f3cce34f-e3bf-4ef4-9326-fd489c2b946f",
   "metadata": {},
   "outputs": [],
   "source": []
  },
  {
   "cell_type": "markdown",
   "id": "083fd9d6-8094-4cbc-997a-e5515b380501",
   "metadata": {},
   "source": [
    "### Removing Null columns"
   ]
  },
  {
   "cell_type": "code",
   "execution_count": null,
   "id": "a502b648-4a8b-4cb2-a381-1e1b48184140",
   "metadata": {},
   "outputs": [],
   "source": []
  },
  {
   "cell_type": "markdown",
   "id": "f66db7c7-e634-4c8e-9a00-71ea109faee2",
   "metadata": {},
   "source": [
    "### Removing non important columns"
   ]
  },
  {
   "cell_type": "code",
   "execution_count": null,
   "id": "9fe6d6c5-b465-4bbb-8e03-94535afaaeaf",
   "metadata": {},
   "outputs": [],
   "source": []
  },
  {
   "cell_type": "code",
   "execution_count": null,
   "id": "626dd74a-c749-4f3a-9862-1ef4faabab94",
   "metadata": {},
   "outputs": [],
   "source": []
  },
  {
   "cell_type": "markdown",
   "id": "32521a70-0060-4425-b5c7-eced0f411ca1",
   "metadata": {},
   "source": [
    "### Removing unique columns"
   ]
  },
  {
   "cell_type": "code",
   "execution_count": null,
   "id": "b5844b3d-f496-4683-8515-fc8c5bad072c",
   "metadata": {},
   "outputs": [],
   "source": []
  },
  {
   "cell_type": "code",
   "execution_count": null,
   "id": "15e7fa2e-1f44-4fcc-a24d-35171df8a3f3",
   "metadata": {},
   "outputs": [],
   "source": []
  },
  {
   "cell_type": "code",
   "execution_count": null,
   "id": "12c4788f-69bd-4974-a6c9-979c8bef35d2",
   "metadata": {},
   "outputs": [],
   "source": []
  },
  {
   "cell_type": "markdown",
   "id": "973dcfa6-829c-40a4-a897-bd244e5434b8",
   "metadata": {},
   "source": [
    "## Creating a derived column from a column or fixing a column value or data type"
   ]
  },
  {
   "cell_type": "code",
   "execution_count": null,
   "id": "26986d6a-a707-4bac-9d19-163e1b105bd1",
   "metadata": {},
   "outputs": [],
   "source": []
  },
  {
   "cell_type": "code",
   "execution_count": null,
   "id": "4356ca1c-d9b7-4b3c-89e5-33969c515e0f",
   "metadata": {},
   "outputs": [],
   "source": []
  },
  {
   "cell_type": "code",
   "execution_count": null,
   "id": "8283e85a-dd6c-4f66-a11b-f8b310460dc6",
   "metadata": {},
   "outputs": [],
   "source": []
  },
  {
   "cell_type": "markdown",
   "id": "8a060f3f-c68d-4d90-92e2-8fc0faa81fdd",
   "metadata": {},
   "source": [
    "## Filling up the missing value wherver we can"
   ]
  },
  {
   "cell_type": "code",
   "execution_count": null,
   "id": "314a787a-73a2-4907-be70-fa98869b7e15",
   "metadata": {},
   "outputs": [],
   "source": []
  },
  {
   "cell_type": "code",
   "execution_count": null,
   "id": "2d85ad1d-d6ef-4161-a679-fb73a2391aa6",
   "metadata": {},
   "outputs": [],
   "source": []
  },
  {
   "cell_type": "code",
   "execution_count": null,
   "id": "32b29af5-04ae-4395-8dce-3895954f99bd",
   "metadata": {},
   "outputs": [],
   "source": []
  },
  {
   "cell_type": "markdown",
   "id": "051c2364-045b-4941-9098-1422f7f25ab7",
   "metadata": {},
   "source": [
    "# Creating a datafRame for Univariate analysis"
   ]
  },
  {
   "cell_type": "code",
   "execution_count": null,
   "id": "9b429865-afbe-4f0c-9610-f0ed981a6c41",
   "metadata": {},
   "outputs": [],
   "source": []
  },
  {
   "cell_type": "code",
   "execution_count": null,
   "id": "b5406b05-72bf-4f0b-821a-5ee4930fc507",
   "metadata": {},
   "outputs": [],
   "source": []
  },
  {
   "cell_type": "markdown",
   "id": "4846d420-07ec-4455-be3e-deef14b477ab",
   "metadata": {},
   "source": [
    "## Univariate Categorical Analysis"
   ]
  },
  {
   "cell_type": "code",
   "execution_count": null,
   "id": "23c179a3-eb20-469b-8a17-b8771575f4d7",
   "metadata": {},
   "outputs": [],
   "source": []
  },
  {
   "cell_type": "code",
   "execution_count": null,
   "id": "25a628e7-b58c-4094-b099-5e0470feacd7",
   "metadata": {},
   "outputs": [],
   "source": []
  },
  {
   "cell_type": "markdown",
   "id": "1c6afa83-22f4-4a56-9d30-885573ace71b",
   "metadata": {},
   "source": [
    "## Univariate Continous Analysis"
   ]
  },
  {
   "cell_type": "code",
   "execution_count": null,
   "id": "de0a0668-0eeb-4cc4-b2cf-6a6e69c1ca0d",
   "metadata": {},
   "outputs": [],
   "source": []
  },
  {
   "cell_type": "code",
   "execution_count": null,
   "id": "fced8659-aaaf-4165-9060-b5d9cda68856",
   "metadata": {},
   "outputs": [],
   "source": []
  },
  {
   "cell_type": "code",
   "execution_count": null,
   "id": "8aad647d-a5fe-4c05-a259-1b7748d1d75c",
   "metadata": {},
   "outputs": [],
   "source": []
  },
  {
   "cell_type": "markdown",
   "id": "2b69b362-f906-4979-8edb-227ccdf16fac",
   "metadata": {},
   "source": [
    "# Bivariate Analysis"
   ]
  },
  {
   "cell_type": "code",
   "execution_count": null,
   "id": "a588a1f1-bd94-4e16-b2a8-140a58523b97",
   "metadata": {},
   "outputs": [],
   "source": []
  }
 ],
 "metadata": {
  "kernelspec": {
   "display_name": "Python 3 (ipykernel)",
   "language": "python",
   "name": "python3"
  },
  "language_info": {
   "codemirror_mode": {
    "name": "ipython",
    "version": 3
   },
   "file_extension": ".py",
   "mimetype": "text/x-python",
   "name": "python",
   "nbconvert_exporter": "python",
   "pygments_lexer": "ipython3",
   "version": "3.8.10"
  }
 },
 "nbformat": 4,
 "nbformat_minor": 5
}
